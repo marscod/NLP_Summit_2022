{
 "cells": [
  {
   "cell_type": "markdown",
   "metadata": {},
   "source": [
    "# How to build a foundation of AI-based healthcare systems through language models?\n",
    "## NLP Summit 2022 by Mehdi Bahrami"
   ]
  },
  {
   "cell_type": "markdown",
   "metadata": {},
   "source": [
    "### Talk is available at: https://www.nlpsummit.org/how-to-build-a-foundation-of-ai-based-healthcare-systems-through-language-models/\n",
    "### 4/5/2022"
   ]
  },
  {
   "cell_type": "code",
   "execution_count": 1,
   "metadata": {},
   "outputs": [],
   "source": [
    "#import libraries \n",
    "import transformers \n",
    "import tensorflow as tf\n",
    "import keras as k\n",
    "import sys\n",
    "import seaborn as sns\n",
    "import numpy as np\n",
    "from spacy import displacy\n",
    "import matplotlib.pyplot as plt\n",
    "import logging\n",
    "logging.basicConfig(level=logging.ERROR)\n",
    "logger = logging.getLogger()\n",
    "logger.setLevel(logging.ERROR)"
   ]
  },
  {
   "cell_type": "code",
   "execution_count": 2,
   "metadata": {},
   "outputs": [
    {
     "name": "stdout",
     "output_type": "stream",
     "text": [
      "transormers:4.16.2\n",
      "tensorflow:2.7.0\n",
      "keras:2.7.0\n"
     ]
    }
   ],
   "source": [
    "#check current versions\n",
    "print(f\"transormers:{transformers.__version__}\")\n",
    "print(f\"tensorflow:{tf.__version__}\")\n",
    "print(f\"keras:{k.__version__}\")"
   ]
  },
  {
   "cell_type": "markdown",
   "metadata": {},
   "source": [
    "# Sample EHR"
   ]
  },
  {
   "cell_type": "code",
   "execution_count": 3,
   "metadata": {},
   "outputs": [],
   "source": [
    "#Ref: https://medicalcodify.com/eh/webchart.cgi?f=layoutnouser&func=&module=&tabmodule=&name=RXDBmain&searchterm=CMS3&showresult=CMS347v2&showresulttype=Measure\n",
    "corpus= [\"Percentage of the following patients - all considered at high risk of cardiovascular events - who were prescribed or were on statin therapy during the measurement period: *Adults aged >= 21 years who were previously diagnosed with or currently have an active diagnosis of clinical atherosclerotic cardiovascular disease (ASCVD); OR *Adults aged >= 21 years who have ever had a fasting or direct low-density lipoprotein cholesterol (LDL-C) level >= 190 mg/dL or were previously diagnosed with or currently have an active diagnosis of familial or pure hypercholesterolemia; OR *Adults aged 40-75 years with a diagnosis of diabetes with a fasting or direct LDL-C level of 70-189 mg/dL\"]"
   ]
  },
  {
   "cell_type": "code",
   "execution_count": 4,
   "metadata": {},
   "outputs": [
    {
     "data": {
      "text/plain": [
       "['Percentage of the following patients - all considered at high risk of cardiovascular events - who were prescribed or were on statin therapy during the measurement period: *Adults aged >= 21 years who were previously diagnosed with or currently have an active diagnosis of clinical atherosclerotic cardiovascular disease (ASCVD); OR *Adults aged >= 21 years who have ever had a fasting or direct low-density lipoprotein cholesterol (LDL-C) level >= 190 mg/dL or were previously diagnosed with or currently have an active diagnosis of familial or pure hypercholesterolemia; OR *Adults aged 40-75 years with a diagnosis of diabetes with a fasting or direct LDL-C level of 70-189 mg/dL']"
      ]
     },
     "execution_count": 4,
     "metadata": {},
     "output_type": "execute_result"
    }
   ],
   "source": [
    "corpus #check the sample EHR record"
   ]
  },
  {
   "cell_type": "markdown",
   "metadata": {},
   "source": [
    "# Text Analysis"
   ]
  },
  {
   "cell_type": "code",
   "execution_count": 5,
   "metadata": {},
   "outputs": [],
   "source": [
    "import spacy\n",
    "try:\n",
    "    nlp = spacy.load(\"en_core_web_lg\", ) #load pre-trained model, more models? checkout: https://spacy.io/models/en\n",
    "except:\n",
    "    !{sys.executable} -m spacy download en_core_web_lg # you may need to download the pretrained model\n",
    "    nlp = spacy.load(\"en_core_web_lg\")"
   ]
  },
  {
   "cell_type": "code",
   "execution_count": 6,
   "metadata": {},
   "outputs": [
    {
     "data": {
      "text/plain": [
       "[The, patient, diagnosed, with, COVID-19]"
      ]
     },
     "execution_count": 6,
     "metadata": {},
     "output_type": "execute_result"
    }
   ],
   "source": [
    "doc = nlp(\"The patient diagnosed with COVID-19\")\n",
    "tokens = [_ for _ in doc]\n",
    "tokens #check the list of tokens"
   ]
  },
  {
   "cell_type": "code",
   "execution_count": 7,
   "metadata": {},
   "outputs": [],
   "source": [
    "lemmatizer = nlp.get_pipe(\"lemmatizer\")"
   ]
  },
  {
   "cell_type": "code",
   "execution_count": 8,
   "metadata": {},
   "outputs": [
    {
     "name": "stdout",
     "output_type": "stream",
     "text": [
      "['the', 'patient', 'diagnose', 'with', 'covid-19']\n"
     ]
    }
   ],
   "source": [
    "print([token.lemma_ for token in doc])"
   ]
  },
  {
   "cell_type": "code",
   "execution_count": 9,
   "metadata": {},
   "outputs": [
    {
     "name": "stdout",
     "output_type": "stream",
     "text": [
      "The the DET DT det Xxx True True\n",
      "patient patient NOUN NN ROOT xxxx True False\n",
      "diagnosed diagnose VERB VBN acl xxxx True False\n",
      "with with ADP IN prep xxxx True True\n",
      "COVID-19 covid-19 NOUN NN pobj XXXX-dd False False\n"
     ]
    }
   ],
   "source": [
    "# Analyze text and relations between tokens of given sentence\n",
    "for token in doc:\n",
    "    print(token.text, token.lemma_, token.pos_, token.tag_, token.dep_,\n",
    "            token.shape_, token.is_alpha, token.is_stop)"
   ]
  },
  {
   "cell_type": "code",
   "execution_count": 10,
   "metadata": {},
   "outputs": [
    {
     "data": {
      "text/html": [
       "<span class=\"tex2jax_ignore\"><svg xmlns=\"http://www.w3.org/2000/svg\" xmlns:xlink=\"http://www.w3.org/1999/xlink\" xml:lang=\"en\" id=\"10322094d08d40bfbc77675620f0da95-0\" class=\"displacy\" width=\"925\" height=\"224.5\" direction=\"ltr\" style=\"max-width: none; height: 224.5px; color: #000000; background: #ffffff; font-family: Arial; direction: ltr\">\n",
       "<text class=\"displacy-token\" fill=\"currentColor\" text-anchor=\"middle\" y=\"134.5\">\n",
       "    <tspan class=\"displacy-word\" fill=\"currentColor\" x=\"50\">The</tspan>\n",
       "    <tspan class=\"displacy-tag\" dy=\"2em\" fill=\"currentColor\" x=\"50\">DET</tspan>\n",
       "</text>\n",
       "\n",
       "<text class=\"displacy-token\" fill=\"currentColor\" text-anchor=\"middle\" y=\"134.5\">\n",
       "    <tspan class=\"displacy-word\" fill=\"currentColor\" x=\"225\">patient</tspan>\n",
       "    <tspan class=\"displacy-tag\" dy=\"2em\" fill=\"currentColor\" x=\"225\">NOUN</tspan>\n",
       "</text>\n",
       "\n",
       "<text class=\"displacy-token\" fill=\"currentColor\" text-anchor=\"middle\" y=\"134.5\">\n",
       "    <tspan class=\"displacy-word\" fill=\"currentColor\" x=\"400\">diagnosed</tspan>\n",
       "    <tspan class=\"displacy-tag\" dy=\"2em\" fill=\"currentColor\" x=\"400\">VERB</tspan>\n",
       "</text>\n",
       "\n",
       "<text class=\"displacy-token\" fill=\"currentColor\" text-anchor=\"middle\" y=\"134.5\">\n",
       "    <tspan class=\"displacy-word\" fill=\"currentColor\" x=\"575\">with</tspan>\n",
       "    <tspan class=\"displacy-tag\" dy=\"2em\" fill=\"currentColor\" x=\"575\">ADP</tspan>\n",
       "</text>\n",
       "\n",
       "<text class=\"displacy-token\" fill=\"currentColor\" text-anchor=\"middle\" y=\"134.5\">\n",
       "    <tspan class=\"displacy-word\" fill=\"currentColor\" x=\"750\">COVID-19</tspan>\n",
       "    <tspan class=\"displacy-tag\" dy=\"2em\" fill=\"currentColor\" x=\"750\">NOUN</tspan>\n",
       "</text>\n",
       "\n",
       "<g class=\"displacy-arrow\">\n",
       "    <path class=\"displacy-arc\" id=\"arrow-10322094d08d40bfbc77675620f0da95-0-0\" stroke-width=\"2px\" d=\"M70,89.5 C70,2.0 225.0,2.0 225.0,89.5\" fill=\"none\" stroke=\"currentColor\"/>\n",
       "    <text dy=\"1.25em\" style=\"font-size: 0.8em; letter-spacing: 1px\">\n",
       "        <textPath xlink:href=\"#arrow-10322094d08d40bfbc77675620f0da95-0-0\" class=\"displacy-label\" startOffset=\"50%\" side=\"left\" fill=\"currentColor\" text-anchor=\"middle\">det</textPath>\n",
       "    </text>\n",
       "    <path class=\"displacy-arrowhead\" d=\"M70,91.5 L62,79.5 78,79.5\" fill=\"currentColor\"/>\n",
       "</g>\n",
       "\n",
       "<g class=\"displacy-arrow\">\n",
       "    <path class=\"displacy-arc\" id=\"arrow-10322094d08d40bfbc77675620f0da95-0-1\" stroke-width=\"2px\" d=\"M245,89.5 C245,2.0 400.0,2.0 400.0,89.5\" fill=\"none\" stroke=\"currentColor\"/>\n",
       "    <text dy=\"1.25em\" style=\"font-size: 0.8em; letter-spacing: 1px\">\n",
       "        <textPath xlink:href=\"#arrow-10322094d08d40bfbc77675620f0da95-0-1\" class=\"displacy-label\" startOffset=\"50%\" side=\"left\" fill=\"currentColor\" text-anchor=\"middle\">acl</textPath>\n",
       "    </text>\n",
       "    <path class=\"displacy-arrowhead\" d=\"M400.0,91.5 L408.0,79.5 392.0,79.5\" fill=\"currentColor\"/>\n",
       "</g>\n",
       "\n",
       "<g class=\"displacy-arrow\">\n",
       "    <path class=\"displacy-arc\" id=\"arrow-10322094d08d40bfbc77675620f0da95-0-2\" stroke-width=\"2px\" d=\"M420,89.5 C420,2.0 575.0,2.0 575.0,89.5\" fill=\"none\" stroke=\"currentColor\"/>\n",
       "    <text dy=\"1.25em\" style=\"font-size: 0.8em; letter-spacing: 1px\">\n",
       "        <textPath xlink:href=\"#arrow-10322094d08d40bfbc77675620f0da95-0-2\" class=\"displacy-label\" startOffset=\"50%\" side=\"left\" fill=\"currentColor\" text-anchor=\"middle\">prep</textPath>\n",
       "    </text>\n",
       "    <path class=\"displacy-arrowhead\" d=\"M575.0,91.5 L583.0,79.5 567.0,79.5\" fill=\"currentColor\"/>\n",
       "</g>\n",
       "\n",
       "<g class=\"displacy-arrow\">\n",
       "    <path class=\"displacy-arc\" id=\"arrow-10322094d08d40bfbc77675620f0da95-0-3\" stroke-width=\"2px\" d=\"M595,89.5 C595,2.0 750.0,2.0 750.0,89.5\" fill=\"none\" stroke=\"currentColor\"/>\n",
       "    <text dy=\"1.25em\" style=\"font-size: 0.8em; letter-spacing: 1px\">\n",
       "        <textPath xlink:href=\"#arrow-10322094d08d40bfbc77675620f0da95-0-3\" class=\"displacy-label\" startOffset=\"50%\" side=\"left\" fill=\"currentColor\" text-anchor=\"middle\">pobj</textPath>\n",
       "    </text>\n",
       "    <path class=\"displacy-arrowhead\" d=\"M750.0,91.5 L758.0,79.5 742.0,79.5\" fill=\"currentColor\"/>\n",
       "</g>\n",
       "</svg></span>"
      ],
      "text/plain": [
       "<IPython.core.display.HTML object>"
      ]
     },
     "metadata": {},
     "output_type": "display_data"
    }
   ],
   "source": [
    "from spacy import displacy\n",
    "displacy.render(doc, style=\"dep\") #viusalize the relationship among tokens "
   ]
  },
  {
   "cell_type": "code",
   "execution_count": 11,
   "metadata": {},
   "outputs": [
    {
     "data": {
      "text/plain": [
       "array([[1.        , 0.65703055, 0.69451725, 0.2171583 ],\n",
       "       [0.65703055, 1.        , 0.69552661, 0.1991938 ],\n",
       "       [0.69451725, 0.69552661, 1.        , 0.18295031],\n",
       "       [0.2171583 , 0.1991938 , 0.18295031, 1.        ]])"
      ]
     },
     "execution_count": 11,
     "metadata": {},
     "output_type": "execute_result"
    }
   ],
   "source": [
    "# find similarity between a set of words\n",
    "results=[]\n",
    "docs =[\"heart disease\", \n",
    "       \"cardiovascular\", \n",
    "       \"diabetes\", \n",
    "       \"device\"] # we should expect that we will have an irrelevant semantic similarity to this word\n",
    "for doc in docs:\n",
    "    results.append(nlp(doc))\n",
    "similarities=np.zeros((len(docs),len(docs)))\n",
    "for base in range(len(results)):\n",
    "    for target in range(len(results)):\n",
    "        similarities[base][target]=results[base].similarity(results[target])\n",
    "similarities"
   ]
  },
  {
   "cell_type": "code",
   "execution_count": 12,
   "metadata": {},
   "outputs": [
    {
     "data": {
      "image/png": "[encoded data removed]",
      "text/plain": [
       "<Figure size 432x288 with 2 Axes>"
      ]
     },
     "metadata": {
      "needs_background": "light"
     },
     "output_type": "display_data"
    }
   ],
   "source": [
    "# let's visualize the output\n",
    "fig, ax = plt.subplots()\n",
    "ax = sns.heatmap(similarities, linewidth=0.5, annot=True)\n",
    "ax.set_xticklabels(docs, rotation=45)\n",
    "ax.set_yticklabels(docs, rotation=45)\n",
    "plt.show()"
   ]
  },
  {
   "cell_type": "markdown",
   "metadata": {},
   "source": [
    "# Word2Vec"
   ]
  },
  {
   "cell_type": "code",
   "execution_count": 13,
   "metadata": {},
   "outputs": [],
   "source": [
    "# Use Gensim Word2Vec  \n",
    "from gensim.test.utils import common_texts\n",
    "from gensim.models import Word2Vec\n",
    "import gensim.downloader as api\n",
    "import gensim"
   ]
  },
  {
   "cell_type": "code",
   "execution_count": 14,
   "metadata": {},
   "outputs": [],
   "source": [
    "#this is a simple model\n",
    "model = Word2Vec(sentences=common_texts, vector_size=100, window=5, min_count=1, workers=4)"
   ]
  },
  {
   "cell_type": "code",
   "execution_count": 15,
   "metadata": {},
   "outputs": [],
   "source": [
    "#this is Glove; more detail can be found at: https://nlp.stanford.edu/projects/glove/\n",
    "word_vectors = api.load(\"glove-wiki-gigaword-100\")  # load pre-trained word-vectors from gensim-data"
   ]
  },
  {
   "cell_type": "code",
   "execution_count": 16,
   "metadata": {},
   "outputs": [],
   "source": [
    "# let's load a pretrained model for medical documents\n",
    "# https://github.com/ncbi-nlp/BioSentVec\n",
    "# Embeddings using PubMed and the clinical notes from MIMIC-III Clinical Database\n",
    "#url: https://ftp.ncbi.nlm.nih.gov/pub/lu/Suppl/BioSentVec/BioWordVec_PubMed_MIMICIII_d200.vec.bin\n",
    "word2vec = gensim.models.KeyedVectors.load_word2vec_format(\n",
    "     'src/BioWordVec_PubMed_MIMICIII_d200.vec.bin',\n",
    "      binary=True,\n",
    "      # limit=None, \n",
    "      limit=int(1_000_000) \n",
    ")"
   ]
  },
  {
   "cell_type": "markdown",
   "metadata": {},
   "source": [
    "## Whats is a word that is similar to 'disease', 'cardiovascular' and it is not related to 'diabetes'?\n",
    "\n",
    "We will use the pretrained `BioWordVec_PubMed_MIMICIII_d200` to answer this question"
   ]
  },
  {
   "cell_type": "code",
   "execution_count": 17,
   "metadata": {},
   "outputs": [
    {
     "data": {
      "text/plain": [
       "[('cardiovascular-disease', 0.7042478322982788),\n",
       " ('disease.1', 0.6750470995903015),\n",
       " ('cardiovasculary', 0.6509307622909546),\n",
       " ('diseaseand', 0.6506668925285339),\n",
       " ('cardiovasculature', 0.6493374109268188),\n",
       " ('extracardiovascular', 0.6385131478309631),\n",
       " ('cerebro-cardiovascular', 0.636828601360321),\n",
       " ('neuro-cardiovascular', 0.6364724040031433),\n",
       " ('diseas', 0.6313492059707642),\n",
       " ('cadiovascular', 0.6295813918113708)]"
      ]
     },
     "execution_count": 17,
     "metadata": {},
     "output_type": "execute_result"
    }
   ],
   "source": [
    "word2vec.most_similar(positive=['disease', 'cardiovascular'], negative=['diabetes'])"
   ]
  },
  {
   "cell_type": "markdown",
   "metadata": {},
   "source": [
    "## What are similar words to 'cardiovascular'?"
   ]
  },
  {
   "cell_type": "code",
   "execution_count": 18,
   "metadata": {},
   "outputs": [
    {
     "data": {
      "text/plain": [
       "[('cardiovasculary', 0.9357172846794128),\n",
       " ('cardiovascular-', 0.9062358736991882),\n",
       " ('noncardiovascular', 0.9051880836486816),\n",
       " ('non-cardiovascular', 0.9023175239562988),\n",
       " ('cardiovascularly', 0.8943461179733276),\n",
       " ('neuro-cardiovascular', 0.8922504782676697),\n",
       " ('cardiovascular-renal', 0.8921498656272888),\n",
       " ('cerebro/cardiovascular', 0.8904604315757751),\n",
       " ('neurocardiovascular', 0.8892894983291626),\n",
       " ('cardiovasculature', 0.8886768221855164)]"
      ]
     },
     "execution_count": 18,
     "metadata": {},
     "output_type": "execute_result"
    }
   ],
   "source": [
    "sims = word2vec.most_similar('cardiovascular', topn=10)\n",
    "sims"
   ]
  },
  {
   "cell_type": "markdown",
   "metadata": {},
   "source": [
    "## What are similar words to 'diabetes'?"
   ]
  },
  {
   "cell_type": "code",
   "execution_count": 19,
   "metadata": {},
   "outputs": [
    {
     "data": {
      "text/plain": [
       "[('mellitus', 0.943260908126831),\n",
       " ('2diabetes', 0.9345118403434753),\n",
       " ('1diabetes', 0.9249724745750427),\n",
       " ('diabetes-mellitus', 0.911189079284668),\n",
       " ('1-diabetes', 0.9087139368057251),\n",
       " ('prediabetes/diabetes', 0.889900267124176),\n",
       " ('help-diabetes', 0.8870837092399597),\n",
       " ('diabetes/prediabetes', 0.8870766758918762),\n",
       " ('pre-diabetes/diabetes', 0.883660078048706),\n",
       " ('2-diabetes', 0.8833818435668945)]"
      ]
     },
     "execution_count": 19,
     "metadata": {},
     "output_type": "execute_result"
    }
   ],
   "source": [
    "sims = word2vec.most_similar('diabetes', topn=10)\n",
    "sims"
   ]
  },
  {
   "cell_type": "markdown",
   "metadata": {},
   "source": [
    "## Which word doesn't match to other words in `cardiovascular heart diabetes device`?"
   ]
  },
  {
   "cell_type": "code",
   "execution_count": 20,
   "metadata": {},
   "outputs": [
    {
     "data": {
      "text/plain": [
       "'device'"
      ]
     },
     "execution_count": 20,
     "metadata": {},
     "output_type": "execute_result"
    }
   ],
   "source": [
    "word2vec.doesnt_match(\"cardiovascular heart diabetes device\".split())"
   ]
  },
  {
   "cell_type": "markdown",
   "metadata": {},
   "source": [
    "## Which word doesn't match to other words in `cardiovascular heart diabetes HCM`?\n",
    "### `HCM` is a heart disease"
   ]
  },
  {
   "cell_type": "code",
   "execution_count": 21,
   "metadata": {},
   "outputs": [
    {
     "data": {
      "text/plain": [
       "'diabetes'"
      ]
     },
     "execution_count": 21,
     "metadata": {},
     "output_type": "execute_result"
    }
   ],
   "source": [
    "word2vec.doesnt_match(\"cardiovascular heart diabetes HCM\".split())"
   ]
  },
  {
   "cell_type": "markdown",
   "metadata": {},
   "source": [
    "## Compare the distance vector representations between two words of `cardiovascular`, `diabetes` in Word2Vec"
   ]
  },
  {
   "cell_type": "code",
   "execution_count": 22,
   "metadata": {},
   "outputs": [
    {
     "data": {
      "text/plain": [
       "0.24358290433883667"
      ]
     },
     "execution_count": 22,
     "metadata": {},
     "output_type": "execute_result"
    }
   ],
   "source": [
    "word_vectors.distance(\"cardiovascular\", \"diabetes\")"
   ]
  },
  {
   "cell_type": "markdown",
   "metadata": {},
   "source": [
    "## Let's compare the distance vector representations between two words of `cardiovascular`, `heart` in Word2Vec\n",
    "### It should be higher than previous words"
   ]
  },
  {
   "cell_type": "code",
   "execution_count": 23,
   "metadata": {},
   "outputs": [
    {
     "data": {
      "text/plain": [
       "0.4669126272201538"
      ]
     },
     "execution_count": 23,
     "metadata": {},
     "output_type": "execute_result"
    }
   ],
   "source": [
    "word_vectors.distance(\"cardiovascular\", \"heart\")"
   ]
  },
  {
   "cell_type": "markdown",
   "metadata": {},
   "source": [
    "## What is the vector (numeric) representation size for a word of `cardiovascular` in the pretrained model?"
   ]
  },
  {
   "cell_type": "code",
   "execution_count": 24,
   "metadata": {},
   "outputs": [
    {
     "data": {
      "text/plain": [
       "(100,)"
      ]
     },
     "execution_count": 24,
     "metadata": {},
     "output_type": "execute_result"
    }
   ],
   "source": [
    "word_vectors['cardiovascular'].shape"
   ]
  },
  {
   "cell_type": "markdown",
   "metadata": {},
   "source": [
    "## What is the vector (numeric) representation for a word of `cardiovascular` in the pretrained model?"
   ]
  },
  {
   "cell_type": "code",
   "execution_count": 25,
   "metadata": {},
   "outputs": [
    {
     "data": {
      "text/plain": [
       "array([-0.063927 , -0.24056  , -0.4748   ,  0.26566  , -0.58629  ,\n",
       "       -0.34764  ,  0.19974  , -0.21486  , -0.95679  ,  0.11892  ,\n",
       "       -0.064613 ,  0.029716 ,  0.12213  , -0.42699  ,  0.53195  ,\n",
       "        0.33944  , -0.50342  , -0.15205  , -0.010427 , -0.63419  ,\n",
       "       -0.42881  , -0.88133  , -0.17609  ,  0.3787   , -0.57562  ,\n",
       "        1.1164   ,  0.27586  , -0.89914  , -0.38188  , -0.082689 ,\n",
       "        0.22638  , -0.11732  , -0.63669  ,  0.1358   , -0.11595  ,\n",
       "        0.11031  , -0.15326  ,  1.2685   , -0.50569  ,  0.50787  ,\n",
       "        0.046222 ,  0.44515  , -0.18485  , -1.5424   ,  0.18502  ,\n",
       "        0.89334  ,  0.36487  , -0.28431  , -1.1815   , -0.48648  ,\n",
       "        0.69814  , -0.37454  , -0.5543   , -0.3999   ,  0.90543  ,\n",
       "       -0.58994  ,  0.85362  , -0.25272  , -0.0046577,  0.43691  ,\n",
       "        0.08117  ,  0.63046  ,  0.76397  ,  0.086914 , -0.44626  ,\n",
       "        0.43249  , -0.45881  , -0.43386  ,  1.1766   ,  0.17748  ,\n",
       "       -0.20207  , -0.27667  ,  0.28324  ,  1.1139   , -0.047698 ,\n",
       "       -0.86567  ,  0.7194   , -0.17774  ,  0.28744  , -0.58872  ,\n",
       "        0.59025  ,  0.49175  , -0.15422  ,  0.86076  , -1.5434   ,\n",
       "       -0.065149 ,  0.17658  , -0.069869 , -0.97266  , -0.3966   ,\n",
       "        0.22036  , -0.21309  ,  0.6511   ,  0.54288  , -0.28077  ,\n",
       "        0.37336  ,  1.0283   , -1.3243   ,  1.3965   , -0.10556  ],\n",
       "      dtype=float32)"
      ]
     },
     "execution_count": 25,
     "metadata": {},
     "output_type": "execute_result"
    }
   ],
   "source": [
    "word_vectors['cardiovascular']"
   ]
  },
  {
   "cell_type": "code",
   "execution_count": 26,
   "metadata": {},
   "outputs": [],
   "source": [
    "## What is the vector (numeric) representation for a word of `heart` in the pretrained model?"
   ]
  },
  {
   "cell_type": "code",
   "execution_count": 27,
   "metadata": {},
   "outputs": [
    {
     "data": {
      "text/plain": [
       "array([ 0.022703,  0.2415  ,  0.16435 ,  0.091409,  0.10478 ,  0.68898 ,\n",
       "       -0.15196 ,  0.068042,  0.031568,  0.20014 , -0.46336 ,  0.26677 ,\n",
       "        0.4266  ,  0.72177 , -0.19463 ,  0.17709 , -0.40109 ,  0.01719 ,\n",
       "        0.067235,  0.11012 , -0.03832 , -0.31202 , -0.78695 ,  0.057273,\n",
       "        0.048507,  1.2048  ,  0.019736, -0.95569 ,  0.88082 , -0.010099,\n",
       "        0.45026 ,  0.42392 ,  0.50482 ,  0.16759 , -0.24879 , -0.17536 ,\n",
       "       -0.13011 ,  0.83335 ,  0.067751,  0.14311 , -0.11819 ,  0.09177 ,\n",
       "        0.069361, -1.017   ,  0.15504 ,  0.36225 ,  0.14532 , -0.037901,\n",
       "       -0.34576 , -0.40229 ,  0.43889 ,  0.038893,  0.64225 ,  0.1564  ,\n",
       "        0.073708, -2.8127  , -0.31722 , -0.11607 ,  1.0157  ,  0.40109 ,\n",
       "        0.54292 ,  1.1714  ,  0.21704 , -0.13816 , -0.24846 ,  0.62933 ,\n",
       "        0.1531  , -0.35085 ,  0.044564, -0.57302 , -0.083929,  0.23005 ,\n",
       "       -0.020433,  0.57274 ,  0.36015 , -0.4435  ,  0.59026 ,  0.20506 ,\n",
       "       -0.38333 , -0.40655 ,  0.6173  ,  0.55072 , -0.36347 ,  0.77862 ,\n",
       "       -1.8138  ,  0.069499,  0.17123 , -0.075357, -0.79752 ,  0.10366 ,\n",
       "        0.14504 , -0.14547 ,  0.11692 ,  1.0589  , -0.70932 ,  0.42481 ,\n",
       "        0.40659 , -0.73905 ,  0.44078 , -0.012808], dtype=float32)"
      ]
     },
     "execution_count": 27,
     "metadata": {},
     "output_type": "execute_result"
    }
   ],
   "source": [
    "word_vectors['heart']"
   ]
  },
  {
   "cell_type": "markdown",
   "metadata": {},
   "source": [
    "# Question Answering"
   ]
  },
  {
   "cell_type": "code",
   "execution_count": 28,
   "metadata": {},
   "outputs": [],
   "source": [
    "from transformers import pipeline"
   ]
  },
  {
   "cell_type": "markdown",
   "metadata": {},
   "source": [
    "## Load a pre-trained model DistilBERT\n",
    "### for more detail refer to: https://github.com/huggingface/notebooks/blob/master/examples/question_answering.ipynb"
   ]
  },
  {
   "cell_type": "code",
   "execution_count": 29,
   "metadata": {},
   "outputs": [],
   "source": [
    "qa_model = pipeline(\"question-answering\",  #we will use a simple pipeline \n",
    "                   model=\"distilbert-base-cased-distilled-squad\") "
   ]
  },
  {
   "cell_type": "markdown",
   "metadata": {},
   "source": [
    "### The following is the context that we will raise a couple questions from the corpus"
   ]
  },
  {
   "cell_type": "code",
   "execution_count": 30,
   "metadata": {},
   "outputs": [
    {
     "data": {
      "text/plain": [
       "'Percentage of the following patients - all considered at high risk of cardiovascular events - who were prescribed or were on statin therapy during the measurement period: *Adults aged >= 21 years who were previously diagnosed with or currently have an active diagnosis of clinical atherosclerotic cardiovascular disease (ASCVD); OR *Adults aged >= 21 years who have ever had a fasting or direct low-density lipoprotein cholesterol (LDL-C) level >= 190 mg/dL or were previously diagnosed with or currently have an active diagnosis of familial or pure hypercholesterolemia; OR *Adults aged 40-75 years with a diagnosis of diabetes with a fasting or direct LDL-C level of 70-189 mg/dL'"
      ]
     },
     "execution_count": 30,
     "metadata": {},
     "output_type": "execute_result"
    }
   ],
   "source": [
    "corpus[0] "
   ]
  },
  {
   "cell_type": "code",
   "execution_count": 31,
   "metadata": {},
   "outputs": [
    {
     "data": {
      "text/plain": [
       "{'score': 0.3656255006790161,\n",
       " 'start': 533,\n",
       " 'end': 570,\n",
       " 'answer': 'familial or pure hypercholesterolemia'}"
      ]
     },
     "execution_count": 31,
     "metadata": {},
     "output_type": "execute_result"
    }
   ],
   "source": [
    "question_1=\"What are previous diagnosis?\"\n",
    "answer_1 = qa_model(question = question_1, context = corpus[0])\n",
    "answer_1"
   ]
  },
  {
   "cell_type": "code",
   "execution_count": 32,
   "metadata": {},
   "outputs": [
    {
     "data": {
      "text/plain": [
       "{'score': 0.5090541839599609,\n",
       " 'start': 281,\n",
       " 'end': 319,\n",
       " 'answer': 'atherosclerotic cardiovascular disease'}"
      ]
     },
     "execution_count": 32,
     "metadata": {},
     "output_type": "execute_result"
    }
   ],
   "source": [
    "question_2=\"What is the disease of the patients?\"\n",
    "answer_2 = qa_model(question = question_2, context = corpus[0])\n",
    "answer_2"
   ]
  },
  {
   "cell_type": "code",
   "execution_count": 33,
   "metadata": {},
   "outputs": [],
   "source": [
    "from sentence_transformers import SentenceTransformer, util\n",
    "import numpy as np"
   ]
  },
  {
   "cell_type": "code",
   "execution_count": 34,
   "metadata": {},
   "outputs": [
    {
     "name": "stderr",
     "output_type": "stream",
     "text": [
      "Some weights of the model checkpoint at /home/xp/.cache/torch/sentence_transformers/allenai_biomed_roberta_base were not used when initializing RobertaModel: ['lm_head.dense.weight', 'lm_head.decoder.weight', 'lm_head.bias', 'lm_head.layer_norm.weight', 'lm_head.dense.bias', 'lm_head.layer_norm.bias']\n",
      "- This IS expected if you are initializing RobertaModel from the checkpoint of a model trained on another task or with another architecture (e.g. initializing a BertForSequenceClassification model from a BertForPreTraining model).\n",
      "- This IS NOT expected if you are initializing RobertaModel from the checkpoint of a model that you expect to be exactly identical (initializing a BertForSequenceClassification model from a BertForSequenceClassification model).\n"
     ]
    }
   ],
   "source": [
    "#ref: https://huggingface.co/allenai/biomed_roberta_base\n",
    "model = SentenceTransformer(\"allenai/biomed_roberta_base\")"
   ]
  },
  {
   "cell_type": "markdown",
   "metadata": {},
   "source": [
    "## We will use pretrained model without fine-tuning to answer the questions"
   ]
  },
  {
   "cell_type": "code",
   "execution_count": 35,
   "metadata": {},
   "outputs": [
    {
     "name": "stderr",
     "output_type": "stream",
     "text": [
      "Some weights of the model checkpoint at roberta-large-mnli were not used when initializing RobertaForSequenceClassification: ['roberta.pooler.dense.weight', 'roberta.pooler.dense.bias']\n",
      "- This IS expected if you are initializing RobertaForSequenceClassification from the checkpoint of a model trained on another task or with another architecture (e.g. initializing a BertForSequenceClassification model from a BertForPreTraining model).\n",
      "- This IS NOT expected if you are initializing RobertaForSequenceClassification from the checkpoint of a model that you expect to be exactly identical (initializing a BertForSequenceClassification model from a BertForSequenceClassification model).\n"
     ]
    }
   ],
   "source": [
    "classifier = pipeline(\"text-classification\", model = \"roberta-large-mnli\")"
   ]
  },
  {
   "cell_type": "code",
   "execution_count": 36,
   "metadata": {},
   "outputs": [],
   "source": [
    "mnli_context=\"Patients were previously diagnosed with atherosclerotic cardiovascular disease or were previously diagnosed with familial or pure hypercholesterolemia.\""
   ]
  },
  {
   "cell_type": "markdown",
   "metadata": {},
   "source": [
    "### We will compare `mnli_context` context against a set of questions"
   ]
  },
  {
   "cell_type": "code",
   "execution_count": 37,
   "metadata": {},
   "outputs": [
    {
     "data": {
      "text/plain": [
       "[{'label': 'CONTRADICTION', 'score': 0.644108235836029}]"
      ]
     },
     "execution_count": 37,
     "metadata": {},
     "output_type": "execute_result"
    }
   ],
   "source": [
    "classifier(f\"{mnli_context} Does patient previously diagnosed with diabetes?\")"
   ]
  },
  {
   "cell_type": "code",
   "execution_count": 38,
   "metadata": {},
   "outputs": [
    {
     "data": {
      "text/plain": [
       "[{'label': 'NEUTRAL', 'score': 0.4658074378967285}]"
      ]
     },
     "execution_count": 38,
     "metadata": {},
     "output_type": "execute_result"
    }
   ],
   "source": [
    "classifier(f\"{mnli_context} Does patient previously diagnosed with heart?\")"
   ]
  },
  {
   "cell_type": "code",
   "execution_count": 39,
   "metadata": {},
   "outputs": [
    {
     "data": {
      "text/plain": [
       "[{'label': 'ENTAILMENT', 'score': 0.7660908699035645}]"
      ]
     },
     "execution_count": 39,
     "metadata": {},
     "output_type": "execute_result"
    }
   ],
   "source": [
    "classifier(f\"{mnli_context} Does patient previously diagnosed with heart disease?\")"
   ]
  },
  {
   "cell_type": "code",
   "execution_count": 40,
   "metadata": {},
   "outputs": [],
   "source": [
    "recom=\"\"\"This electronic clinical quality measure is intended to align with the 2013 ACC/AHA Guideline on the Treatment of Blood Cholesterol (Stone et al. 2013), which indicates the use of statins as the first line of cholesterol-lowering medication therapy to lower the risk of ASCVD among at-risk populations.\n",
    "\n",
    "Recommendations for Treatment of Blood Cholesterol to Reduce Atherosclerotic Cardiovascular Risk in Adults - Statin Treatment:\n",
    "Secondary Prevention:\n",
    "1. High-intensity statin therapy should be initiated or continued as first-line therapy in women and men <=75 years of age who have clinical ASCVD, unless contraindicated. (Level of Evidence A), (ACC/AHA, 2013)\n",
    "\n",
    "2. In individuals with clinical ASCVD in whom high-intensity statin therapy would otherwise be used, when high-intensity statin therapy is contraindicated or when characteristics predisposing to statin-associated adverse effects are present, moderate-intensity statin should be used as the second option, if tolerated. (Level of Evidence A), (ACC/AHA, 2013) \n",
    "\n",
    "Primary Prevention in Individuals >= 21 Years of Age With LDL-C >=190 mg/dL:\n",
    "2. Adults >=21 years of age with primary LDL-C >=190 mg/dL should be treated with statin therapy. (10-year ASCVD risk estimation is not required.) (Level of Evidence B), (ACC/AHA, 2013)\n",
    "\n",
    "Primary Prevention in Individuals With Diabetes and LDL-C 70-189 mg/dL:\n",
    "1. Moderate-intensity statin therapy should be initiated or continued for adults 40-75 years of age with diabetes. (Level of Evidence A),(ACC/AHA, 2013) \"\"\""
   ]
  },
  {
   "cell_type": "code",
   "execution_count": 41,
   "metadata": {},
   "outputs": [
    {
     "name": "stderr",
     "output_type": "stream",
     "text": [
      "/home/xp/.local/lib/python3.8/site-packages/transformers/tokenization_utils_base.py:707: VisibleDeprecationWarning: Creating an ndarray from ragged nested sequences (which is a list-or-tuple of lists-or-tuples-or ndarrays with different lengths or shapes) is deprecated. If you meant to do this, you must specify 'dtype=object' when creating the ndarray.\n",
      "  tensor = as_tensor(value)\n",
      "/home/xp/.local/lib/python3.8/site-packages/transformers/pipelines/question_answering.py:296: VisibleDeprecationWarning: Creating an ndarray from ragged nested sequences (which is a list-or-tuple of lists-or-tuples-or ndarrays with different lengths or shapes) is deprecated. If you meant to do this, you must specify 'dtype=object' when creating the ndarray.\n",
      "  p_mask = np.asarray(\n"
     ]
    },
    {
     "data": {
      "text/plain": [
       "{'score': 0.4798007309436798,\n",
       " 'start': 1364,\n",
       " 'end': 1397,\n",
       " 'answer': 'Moderate-intensity statin therapy'}"
      ]
     },
     "execution_count": 41,
     "metadata": {},
     "output_type": "execute_result"
    }
   ],
   "source": [
    "question_3=\"What are treatments should be initiated?\"\n",
    "answer_3 = qa_model(question = question_3, context = recom)\n",
    "answer_3"
   ]
  },
  {
   "cell_type": "markdown",
   "metadata": {},
   "source": [
    "# QA & Text Classification"
   ]
  },
  {
   "cell_type": "code",
   "execution_count": 42,
   "metadata": {},
   "outputs": [
    {
     "data": {
      "text/plain": [
       "('What is the disease of the patients?',\n",
       " 'atherosclerotic cardiovascular disease')"
      ]
     },
     "execution_count": 42,
     "metadata": {},
     "output_type": "execute_result"
    }
   ],
   "source": [
    "question_2, answer_2[\"answer\"] #recall the previous question and its answer"
   ]
  },
  {
   "cell_type": "code",
   "execution_count": 43,
   "metadata": {},
   "outputs": [
    {
     "data": {
      "text/plain": [
       "'Percentage of the following patients - all considered at high risk of cardiovascular events - who were prescribed or were on statin therapy during the measurement period: *Adults aged >= 21 years who were previously diagnosed with or currently have an active diagnosis of clinical atherosclerotic cardiovascular disease (ASCVD); OR *Adults aged >= 21 years who have ever had a fasting or direct low-density lipoprotein cholesterol (LDL-C) level >= 190 mg/dL or were previously diagnosed with or currently have an active diagnosis of familial or pure hypercholesterolemia; OR *Adults aged 40-75 years with a diagnosis of diabetes with a fasting or direct LDL-C level of 70-189 mg/dL'"
      ]
     },
     "execution_count": 43,
     "metadata": {},
     "output_type": "execute_result"
    }
   ],
   "source": [
    "corpus[0] #this is out context"
   ]
  },
  {
   "cell_type": "markdown",
   "metadata": {},
   "source": [
    "### We can have a set of disease dataset to categorize all varieties of each disease; for instance, `atherosclerotic cardiovascular disease` is type of `Heart Disease`. \n",
    "### Can we use a pretrained model to recognize the major type of a disease (without fine-tuning)?"
   ]
  },
  {
   "cell_type": "code",
   "execution_count": 44,
   "metadata": {},
   "outputs": [],
   "source": [
    "diseases = [\"Heart Disease\", \"Cancer\", \"Diabetes\"]  # let's assume that this is our major disease dataset"
   ]
  },
  {
   "cell_type": "code",
   "execution_count": 45,
   "metadata": {},
   "outputs": [],
   "source": [
    "embeddings=[]\n",
    "cosine_scores=[]\n",
    "answer_embeding = model.encode(answer_2[\"answer\"], convert_to_tensor=True)\n",
    "for disease in diseases:\n",
    "    target=model.encode(disease, convert_to_tensor=True) #encode each disease\n",
    "    embeddings.append(target) \n",
    "    \n",
    "    #find similarity score between our answer_2 and each disease \n",
    "    cosine_scores.append(util.pytorch_cos_sim(target, answer_embeding)) "
   ]
  },
  {
   "cell_type": "code",
   "execution_count": 46,
   "metadata": {},
   "outputs": [
    {
     "data": {
      "text/plain": [
       "(3, torch.Size([768]))"
      ]
     },
     "execution_count": 46,
     "metadata": {},
     "output_type": "execute_result"
    }
   ],
   "source": [
    "len(embeddings), embeddings[0].shape #check the size of returned vector representations"
   ]
  },
  {
   "cell_type": "markdown",
   "metadata": {},
   "source": [
    "### How looks like a vector representation for each words?"
   ]
  },
  {
   "cell_type": "code",
   "execution_count": 47,
   "metadata": {},
   "outputs": [
    {
     "data": {
      "text/plain": [
       "tensor([-9.2452e-02,  8.3793e-02,  3.1015e-02, -1.3983e-01,  4.3661e-01,\n",
       "         1.5727e-01,  1.6799e-02,  3.7145e-02,  1.0854e-01, -1.2296e-01,\n",
       "         6.6648e-02,  2.6076e-01,  4.6410e-02,  3.1186e-02, -1.2956e-02,\n",
       "        -6.2282e-02, -2.3966e-01,  1.7257e-02, -8.4224e-02,  5.7215e-02,\n",
       "        -8.3252e-02,  2.0827e-01,  1.2269e-01,  1.3636e-01, -1.3200e-02,\n",
       "         6.9233e-02,  1.3677e-01, -7.8347e-02,  2.5177e-01, -1.5346e-01,\n",
       "         3.1962e-02,  1.1131e-02,  6.4093e-02,  7.0293e-02, -1.9669e-02,\n",
       "        -1.2627e-01,  1.0094e-01,  3.5949e-03, -1.2512e-01, -6.4611e-02,\n",
       "        -2.4286e-01, -1.3295e-02, -3.0921e-02, -6.2063e-02,  5.1235e-02,\n",
       "         5.8763e-03, -3.7120e-02, -4.5714e-02,  5.4827e-02,  9.2052e-02,\n",
       "        -1.2113e-02, -8.6938e-03, -6.6170e-02, -1.0964e-01,  2.1108e-02,\n",
       "        -3.1549e-02, -4.6459e-02,  2.4635e-01, -9.1144e-02,  1.0692e-01,\n",
       "        -1.2957e-02,  6.8205e-01, -1.3112e-01,  9.2115e-02, -1.6780e-02,\n",
       "        -2.9027e-02,  6.8914e-02, -2.4425e-01, -9.3476e-02,  2.5584e-02,\n",
       "        -1.4317e-02, -1.5245e-01,  2.7372e-03, -1.2125e-01,  4.7160e-02,\n",
       "         1.6309e-03,  4.6701e-02, -1.8878e+00,  7.6639e-02,  1.7246e-01,\n",
       "         1.2334e-01, -2.2412e-01,  6.7694e-01,  2.9539e-01,  1.8541e-01,\n",
       "        -1.9051e-01, -1.9877e-02,  1.0433e-01, -3.1633e-03,  8.5652e-02,\n",
       "         3.7854e-02, -1.6556e-02,  1.4868e-01,  1.2116e-01,  6.2172e-02,\n",
       "         1.9616e-02,  7.1300e-02,  1.9848e-01,  5.3470e-02,  4.0288e-02,\n",
       "         1.3136e-01, -4.8641e-02,  8.0187e-02,  4.5429e-02, -1.0204e-02,\n",
       "         1.0929e-01,  2.5950e-02, -3.1845e-02, -1.5752e-02,  4.2519e-03,\n",
       "        -3.9624e-02,  7.8890e-02, -8.8497e-02, -5.8272e-02, -1.0508e-02,\n",
       "        -7.7808e-02, -9.6666e-03, -1.1151e-02,  3.5276e-02,  1.6436e-01,\n",
       "         6.5763e-02,  1.3805e-03,  2.0056e-01, -4.8887e-02, -4.0304e-02,\n",
       "         1.9725e-01, -1.3838e-03, -1.1403e-01, -1.6983e-02,  5.4121e-02,\n",
       "         6.6162e-02, -4.7823e-01,  1.2485e-01,  1.1499e-01,  1.5391e-01,\n",
       "        -5.2820e-02,  8.2594e-02,  2.5360e-02,  6.0667e-02,  1.6893e-01,\n",
       "        -7.0138e-02,  9.5481e-04,  4.3127e-02,  7.0808e-02,  1.7809e-02,\n",
       "         1.2702e-01, -1.7761e-02,  6.8644e-02, -1.2469e-01, -9.1243e-02,\n",
       "        -1.9978e-02, -4.3924e-02,  6.1211e-02, -9.6324e-03,  4.7287e-02,\n",
       "        -7.3579e-02,  1.3083e-01,  5.7277e-02, -1.6358e-01,  3.4276e-02,\n",
       "         2.7420e-02,  6.3081e-02,  4.8217e-02, -2.3774e-02, -1.3719e-01,\n",
       "         4.8220e-02,  3.5351e-02,  1.8317e-01,  8.3929e-02,  4.3073e-02,\n",
       "        -4.4064e-03,  4.1107e-02, -7.8545e-02,  1.2473e-01,  5.8372e-02,\n",
       "        -4.2261e-02, -1.2617e-01, -4.7150e-02, -1.5637e-01, -5.2700e-02,\n",
       "         5.5417e-02,  7.7523e-02, -9.9437e-02, -6.1109e-02,  4.8192e-02,\n",
       "        -4.8619e-02,  8.5029e-02, -1.7844e-01,  1.7998e-01, -4.6870e-02,\n",
       "         7.5404e-02,  7.9572e-02, -6.2760e-03,  2.3290e-01,  1.1575e-01,\n",
       "         1.9642e-01,  4.6490e-02, -2.5624e-02,  1.8408e-01,  8.9662e-02,\n",
       "        -5.7948e-02,  6.6872e-02,  1.5566e-02, -1.2012e-02,  1.1088e-01,\n",
       "         5.1684e-02,  8.7432e-02,  5.7101e-02, -6.3307e-02,  7.0347e-02,\n",
       "        -1.4355e-02, -2.2358e-02, -3.9814e-02, -6.8565e-02, -1.5391e-01,\n",
       "        -8.7226e-02, -3.5968e-02, -6.9162e-01,  9.2562e-02, -2.3452e-01,\n",
       "         6.2462e-02,  1.5129e-01, -8.2872e-02, -9.8251e-02,  8.4571e-02,\n",
       "         2.8347e-02,  1.1706e-03,  1.4518e-01,  1.0752e-02,  5.1987e-02,\n",
       "         2.8102e-02,  1.0666e-01, -1.5585e-01,  1.1314e-01,  9.2741e-02,\n",
       "        -8.0147e-02,  3.8357e-02, -5.3019e-04, -3.1771e-02, -6.5678e-02,\n",
       "         1.9269e-01, -1.3094e-03,  3.4132e-02,  1.6633e-01, -1.2007e-01,\n",
       "        -6.5207e-02,  3.1526e-02, -2.5226e-01, -7.2116e-02,  3.4742e-02,\n",
       "        -3.3064e-02, -4.5882e-02,  7.5066e-02, -7.7420e-03,  4.3927e-02,\n",
       "         1.2417e-02, -5.7270e-02, -2.8765e-02, -1.4568e-03,  9.1253e-02,\n",
       "         4.7714e-03, -4.8827e-02, -4.2825e-02,  1.6092e-01, -7.1387e-02,\n",
       "        -7.1120e-02, -1.3115e-02, -3.2577e-03, -5.9298e-02, -5.3382e-02,\n",
       "         1.2834e-01,  1.0178e-01, -1.4390e-01,  5.2331e-02, -2.0575e-02,\n",
       "         1.5716e-02, -2.5664e-01, -5.1877e-02,  1.1071e-02, -4.8874e-02,\n",
       "        -4.1729e-02, -2.3670e-02, -6.6458e-02,  1.1824e-01, -9.3434e-02,\n",
       "        -2.7624e-01, -3.8726e-02, -1.5653e-01,  6.0212e-02,  1.7399e-03,\n",
       "         6.7346e-02,  1.2961e-01, -1.3653e-01, -6.0754e-02, -1.0215e-01,\n",
       "         2.3325e-02, -3.3706e-02, -9.9063e-02,  4.3523e-03, -1.5435e-01,\n",
       "         2.7142e-01, -7.4061e-02, -1.9584e-01, -5.6756e-02,  1.0521e-01,\n",
       "         9.8647e-03, -1.6057e-03,  3.6353e-02,  3.5154e-02,  9.3352e-02,\n",
       "         1.1316e-03,  2.5650e-02, -2.5533e-02,  1.1866e-01, -3.6368e-02,\n",
       "        -7.3327e-02, -1.4172e-01,  1.4161e-02,  3.7062e-02,  2.8861e-02,\n",
       "         3.0329e-02,  9.8796e-02, -9.6859e-03,  2.1877e-02,  1.1035e-01,\n",
       "         1.0431e-01,  1.2263e-01, -4.1298e-02,  2.4746e-02,  2.5237e-01,\n",
       "        -3.6726e-01,  7.0931e-03,  4.3227e-02,  2.3549e-01,  7.4412e-02,\n",
       "         6.5285e-02,  2.5576e-02,  7.6140e-03,  1.1584e-01,  9.7131e-02,\n",
       "        -4.8626e-02, -7.3984e-02, -1.4454e-01,  7.3468e-02, -1.1957e-01,\n",
       "         5.3076e-02, -5.4918e-02, -8.0023e-02, -9.6772e-02, -3.8783e-02,\n",
       "        -9.5106e-02,  2.9427e-03,  7.2659e-02, -6.9360e-02, -2.3348e-02,\n",
       "         2.5941e-01, -3.0110e-02, -3.3702e-02,  1.3507e-02,  1.6137e-01,\n",
       "        -6.9856e-02, -6.1376e-02,  8.6211e-02, -1.3452e-01, -1.0220e-03,\n",
       "        -1.2823e-01, -3.6046e-02,  7.9543e-02,  3.2048e-02,  5.7695e-02,\n",
       "        -1.3881e-02,  1.1398e-01,  9.9927e-02, -6.1049e-02,  8.1095e-02,\n",
       "         1.8454e-02,  2.1117e-02,  2.1132e-02,  1.7789e-01,  7.9092e-02,\n",
       "         3.4223e-02,  7.3934e-02,  2.2960e-02, -5.0348e-03,  1.5085e-01,\n",
       "        -6.0418e-02, -6.9691e-02,  4.9345e-02,  2.5089e-01,  9.9598e-03,\n",
       "         1.3337e-01,  7.9140e-02,  6.6013e-02,  5.9396e-02,  4.2877e-02,\n",
       "         1.3878e-02,  2.2780e-02, -2.6238e-01,  4.7449e-02, -2.9173e-02,\n",
       "        -2.2110e-01,  1.9344e-01,  4.5048e-02, -1.3386e-01,  3.2175e-02,\n",
       "         4.6672e-02, -1.6239e-01,  6.9206e-02, -3.1029e-02, -7.7869e-02,\n",
       "         6.1876e-02,  6.5528e-02, -9.6405e-03, -1.1869e-01,  2.1254e-02,\n",
       "         3.5750e-02,  2.8379e-02, -6.9561e-02, -8.5675e-02, -4.5789e-02,\n",
       "        -2.4491e-02,  4.9662e-02,  7.6628e-02,  7.8778e-03, -2.9636e-02,\n",
       "         4.7219e-02,  3.0801e-02, -1.2555e-01,  6.3989e-03, -3.3260e-02,\n",
       "        -8.8741e-02,  7.0084e-02, -2.0856e-02,  1.4560e-01,  2.5485e-02,\n",
       "        -1.0886e-01,  7.7936e-02,  2.6754e-02, -3.1763e-02, -1.1527e-01,\n",
       "        -2.6135e-02, -8.7835e-02, -5.8458e-02,  1.7776e-01, -2.9139e-02,\n",
       "        -1.9767e-03,  2.8019e-01, -1.0443e-02, -1.8380e-01, -1.0034e-01,\n",
       "        -5.7170e-02,  1.5150e-01,  6.3571e-02, -1.3519e+00,  1.5178e-01,\n",
       "         1.3735e-02,  7.4797e-02, -9.6336e-03, -1.6260e-01,  8.0830e-02,\n",
       "         1.1852e-01,  7.0402e-02,  1.1574e-01, -3.3837e-02,  1.3966e-02,\n",
       "         1.1761e-01,  5.1343e-02,  1.0272e-02, -1.3001e-01,  3.6824e-02,\n",
       "        -7.7101e-02, -9.7468e-04,  2.2385e-02,  6.2467e-02,  3.6289e-02,\n",
       "        -8.6522e-02, -6.7822e-02,  1.6397e-01,  3.0179e-02,  2.8716e-02,\n",
       "         2.4484e-02,  1.4173e-02,  7.5597e-02,  1.6304e-02,  1.6788e-01,\n",
       "         3.9514e-02, -3.9792e-02, -4.5232e-02,  5.8941e-02, -6.2839e-04,\n",
       "        -1.3872e-01,  6.4685e-02, -9.6692e-02,  5.3707e-02,  2.3371e-01,\n",
       "         2.2182e-03, -1.3004e-01,  6.4145e-02,  2.7166e-01, -6.7575e-02,\n",
       "         4.1421e-02, -3.2424e-02,  1.2415e-01, -5.8282e-02,  6.5153e-02,\n",
       "         7.0323e-02,  1.2299e-02, -6.9357e-02, -1.4917e-02,  8.4603e-02,\n",
       "        -1.4437e-02,  1.2117e-01,  9.8885e-02, -4.3207e-02,  5.9396e-02,\n",
       "         2.0894e-02,  3.6233e-02,  2.1944e-02,  1.2224e-01, -1.7093e-01,\n",
       "         7.0529e-02,  3.0670e-02, -9.4309e-02,  5.2857e-03,  7.2007e-04,\n",
       "        -1.7220e-02, -1.0224e-01, -9.4277e-02,  1.1759e-01, -6.9892e-02,\n",
       "         4.6690e-02, -3.4312e-02,  2.7282e-02, -1.6363e-02,  1.7338e-03,\n",
       "         7.6690e-02,  7.2171e-02, -3.5735e-02, -3.5735e-01, -1.5556e-01,\n",
       "         9.6466e-02, -2.8581e-03,  1.4580e-01,  1.9109e-02,  4.8339e-02,\n",
       "         4.8176e-02,  1.9969e-01,  3.3535e-02, -1.7444e-02, -1.1082e-01,\n",
       "         9.5003e-02, -4.9854e-01,  7.8826e-03,  1.3757e-01,  8.6871e-02,\n",
       "         5.8557e-02,  5.9447e-02,  1.5086e-01, -1.1483e-02,  1.2166e-01,\n",
       "        -1.3003e-01, -1.1859e-01, -6.2840e-02,  1.0358e-01, -3.6605e-02,\n",
       "         3.2081e-02,  1.5302e-01, -1.5842e-01, -6.2444e-02, -4.3532e-02,\n",
       "         1.0259e-01,  2.8840e-02, -7.9010e-02,  1.3580e-01, -1.2013e-01,\n",
       "        -4.2040e-02,  4.7975e-02,  1.6961e-02,  1.8598e-01,  8.1339e-02,\n",
       "         1.3164e-01,  1.6282e-01,  3.8452e-02, -2.8476e-04,  1.2717e-01,\n",
       "        -8.0069e-02,  2.5429e-01, -1.1401e-01,  1.1670e+01,  1.6440e-02,\n",
       "         6.3283e-02,  3.4314e-04,  5.9067e-02, -1.1988e-01,  1.1756e-01,\n",
       "         6.3903e-02,  1.1740e-01,  6.5093e-02,  3.3460e-02, -2.2097e-01,\n",
       "        -1.7046e-02, -4.1628e-02,  5.7696e-02, -8.5822e-02,  1.4237e-02,\n",
       "        -1.8206e-01,  1.6946e-01,  1.1988e-01,  1.0860e-01, -1.3680e-01,\n",
       "         7.1590e-02,  1.0399e-01,  5.4510e-02, -5.0016e-03,  3.1346e-02,\n",
       "        -7.7664e-02, -5.9142e-02,  5.1298e-02, -2.4354e-02,  1.2698e-01,\n",
       "        -5.8427e-02,  1.1691e-01,  2.9555e-01, -1.0692e-01,  2.8762e-01,\n",
       "        -1.3621e-02, -2.5479e-02,  1.3280e-01,  4.4962e-02,  6.6485e-02,\n",
       "         1.2352e-01,  1.2461e-02,  1.2449e-01, -2.7010e-02, -1.2380e-01,\n",
       "         9.4335e-02,  1.0991e-01,  1.1511e-01, -6.0226e-03, -3.2327e-02,\n",
       "         1.8829e-02, -1.6261e-01, -2.6472e-02, -1.1081e-01,  4.1430e-02,\n",
       "        -5.0393e-02, -5.5559e-02,  2.0200e-01,  1.9040e-02,  4.1234e-02,\n",
       "         2.9407e-02,  4.2260e-02,  6.1461e-02,  3.0768e-01, -5.2872e-02,\n",
       "         1.9321e-01, -3.8973e-02, -3.2974e-02,  3.6027e-02,  3.3603e-02,\n",
       "         1.0606e-02, -1.5722e-03,  7.9405e-02, -1.6776e-01,  2.9232e-01,\n",
       "        -2.6761e-02, -6.0944e-03,  7.8646e-02,  2.9227e-02,  4.9565e-02,\n",
       "         4.3148e-02,  1.6704e-02,  3.1325e-02, -8.7361e-02,  1.4574e-01,\n",
       "         1.1791e-02, -1.4723e-01, -5.4298e-02,  6.3443e-02,  5.2113e-02,\n",
       "        -6.9589e-02,  2.6903e-02,  6.9187e-02, -8.3825e-02, -2.2355e-02,\n",
       "        -2.2974e-02,  6.2089e-03, -6.0025e-02, -2.8831e-02,  5.1585e-02,\n",
       "         9.6258e-02,  5.6173e-02,  2.2815e-02,  5.6273e-02,  1.7518e-01,\n",
       "         2.4424e-03,  1.6631e-02,  4.7007e-02, -4.6001e-02, -2.2552e-02,\n",
       "        -5.0052e-02, -5.2525e-02, -3.7768e-02, -7.7476e-02,  6.0826e-02,\n",
       "         2.3921e-02,  6.7737e-02,  4.0996e-02,  5.2858e-02,  2.6790e-02,\n",
       "        -6.5154e-02,  6.2487e-02,  7.8439e-02,  3.9267e-02,  4.1517e-02,\n",
       "         1.0454e-01, -1.1996e-01,  1.8786e-02, -2.6265e-02, -7.6583e-03,\n",
       "         1.8278e-01,  1.3106e-03, -5.2344e-02,  4.1038e-02, -7.9111e-03,\n",
       "         7.6248e-02,  3.3502e-02,  1.0543e-02, -3.4761e-02,  4.5936e-02,\n",
       "         3.3580e-03, -3.5088e-02,  1.9369e-02,  1.8218e-01,  1.2243e-01,\n",
       "         3.6450e-02, -3.3247e-02,  6.4642e-02,  1.3659e-01,  1.8049e-01,\n",
       "        -9.5389e-02, -1.5638e-02,  6.9551e-02,  3.7980e-02,  7.0542e-03,\n",
       "         1.2672e-01, -1.0045e-02,  8.4512e-02,  8.1243e-02, -6.0246e-01,\n",
       "        -9.4233e-02, -9.0899e-02, -1.5825e-01, -9.3729e-03, -1.0871e-01,\n",
       "         4.8798e-02,  1.3067e-01,  7.3801e-02,  1.4829e-01,  6.2729e-03,\n",
       "        -1.4713e-01,  2.7020e-02,  7.9861e-02,  4.7572e-02,  2.0290e-01,\n",
       "        -3.0399e-01, -1.0694e-01,  6.2971e-02])"
      ]
     },
     "execution_count": 47,
     "metadata": {},
     "output_type": "execute_result"
    }
   ],
   "source": [
    "embeddings[0] "
   ]
  },
  {
   "cell_type": "code",
   "execution_count": 48,
   "metadata": {},
   "outputs": [
    {
     "data": {
      "text/plain": [
       "[tensor([[0.9217]]), tensor([[0.9137]]), tensor([[0.9208]])]"
      ]
     },
     "execution_count": 48,
     "metadata": {},
     "output_type": "execute_result"
    }
   ],
   "source": [
    "cosine_scores #check out all computed similarity score"
   ]
  },
  {
   "cell_type": "code",
   "execution_count": 49,
   "metadata": {},
   "outputs": [],
   "source": [
    "#show a better representation"
   ]
  },
  {
   "cell_type": "code",
   "execution_count": 50,
   "metadata": {
    "scrolled": true
   },
   "outputs": [
    {
     "name": "stdout",
     "output_type": "stream",
     "text": [
      "Heart Disease:tensor([[0.9217]])\n",
      "Cancer:tensor([[0.9137]])\n",
      "Diabetes:tensor([[0.9208]])\n"
     ]
    }
   ],
   "source": [
    "for index in range(len(diseases)):\n",
    "    print(f\"{diseases[index]}:{cosine_scores[index]}\")"
   ]
  },
  {
   "cell_type": "code",
   "execution_count": 51,
   "metadata": {},
   "outputs": [],
   "source": [
    "# Find the top related category from our dissease dataset"
   ]
  },
  {
   "cell_type": "code",
   "execution_count": 52,
   "metadata": {},
   "outputs": [
    {
     "name": "stderr",
     "output_type": "stream",
     "text": [
      "/home/xp/.local/lib/python3.8/site-packages/numpy/core/fromnumeric.py:43: FutureWarning: The input object of type 'Tensor' is an array-like implementing one of the corresponding protocols (`__array__`, `__array_interface__` or `__array_struct__`); but not a sequence (or 0-D). In the future, this object will be coerced as if it was first converted using `np.array(obj)`. To retain the old behaviour, you have to either modify the type 'Tensor', or assign to an empty array created with `np.empty(correct_shape, dtype=object)`.\n",
      "  result = getattr(asarray(obj), method)(*args, **kwds)\n",
      "/home/xp/.local/lib/python3.8/site-packages/numpy/core/fromnumeric.py:43: VisibleDeprecationWarning: Creating an ndarray from ragged nested sequences (which is a list-or-tuple of lists-or-tuples-or ndarrays with different lengths or shapes) is deprecated. If you meant to do this, you must specify 'dtype=object' when creating the ndarray.\n",
      "  result = getattr(asarray(obj), method)(*args, **kwds)\n"
     ]
    },
    {
     "data": {
      "text/plain": [
       "'Heart Disease'"
      ]
     },
     "execution_count": 52,
     "metadata": {},
     "output_type": "execute_result"
    }
   ],
   "source": [
    "top_related_answer= np.argmax(cosine_scores)\n",
    "diseases[top_related_answer]"
   ]
  },
  {
   "cell_type": "markdown",
   "metadata": {},
   "source": [
    "# Homework: Can you extend this task by adding a large number of disease? and annotate a text with disease group?\n",
    "## You may find a public dataset as a list of diseases to avoid entering manually"
   ]
  },
  {
   "cell_type": "markdown",
   "metadata": {},
   "source": [
    "# Masked Language Model"
   ]
  },
  {
   "cell_type": "markdown",
   "metadata": {},
   "source": [
    "### Let's load a pretrained medical BERT model"
   ]
  },
  {
   "cell_type": "code",
   "execution_count": 53,
   "metadata": {},
   "outputs": [
    {
     "name": "stderr",
     "output_type": "stream",
     "text": [
      "Some weights of the model checkpoint at microsoft/BiomedNLP-PubMedBERT-base-uncased-abstract-fulltext were not used when initializing BertForMaskedLM: ['cls.seq_relationship.bias', 'cls.seq_relationship.weight']\n",
      "- This IS expected if you are initializing BertForMaskedLM from the checkpoint of a model trained on another task or with another architecture (e.g. initializing a BertForSequenceClassification model from a BertForPreTraining model).\n",
      "- This IS NOT expected if you are initializing BertForMaskedLM from the checkpoint of a model that you expect to be exactly identical (initializing a BertForSequenceClassification model from a BertForSequenceClassification model).\n"
     ]
    }
   ],
   "source": [
    "from transformers import pipeline\n",
    "mlm = pipeline(\"fill-mask\", \n",
    "                model=\"microsoft/BiomedNLP-PubMedBERT-base-uncased-abstract-fulltext\")"
   ]
  },
  {
   "cell_type": "markdown",
   "metadata": {},
   "source": [
    "### Can we predict next word without fine-tuning a model for medical text?"
   ]
  },
  {
   "cell_type": "code",
   "execution_count": 54,
   "metadata": {},
   "outputs": [
    {
     "data": {
      "text/plain": [
       "[{'score': 0.005162281449884176,\n",
       "  'token': 2565,\n",
       "  'token_str': 'risk',\n",
       "  'sequence': 'all considered at high risk'},\n",
       " {'score': 0.0015415260568261147,\n",
       "  'token': 2428,\n",
       "  'token_str': 'levels',\n",
       "  'sequence': 'all considered at high levels'},\n",
       " {'score': 0.0014397819759324193,\n",
       "  'token': 35,\n",
       "  'token_str': '?',\n",
       "  'sequence': 'all considered at high?'},\n",
       " {'score': 0.0010888191172853112,\n",
       "  'token': 5312,\n",
       "  'token_str': 'doses',\n",
       "  'sequence': 'all considered at high doses'}]"
      ]
     },
     "execution_count": 54,
     "metadata": {},
     "output_type": "execute_result"
    }
   ],
   "source": [
    "#original: all considered at high risk of cardiovascular\n",
    "predicted_tokens = mlm(\"all considered at high [MASK]\")\n",
    "predicted_tokens = [_ for _ in predicted_tokens if _['token_str'] not in ['.', ',', ';']]\n",
    "predicted_tokens"
   ]
  },
  {
   "cell_type": "markdown",
   "metadata": {},
   "source": [
    "### Can we predict next word without fine-tuning a model for medical text? In this experiment, we will use a generic model of `RoBERTa`"
   ]
  },
  {
   "cell_type": "code",
   "execution_count": 55,
   "metadata": {},
   "outputs": [],
   "source": [
    "mlm = pipeline(\"fill-mask\",  #a simple approach for fill mask task\n",
    "                model=\"roberta-large\")"
   ]
  },
  {
   "cell_type": "code",
   "execution_count": 56,
   "metadata": {},
   "outputs": [
    {
     "data": {
      "text/plain": [
       "[{'score': 0.9852206707000732,\n",
       "  'token': 810,\n",
       "  'token_str': ' risk',\n",
       "  'sequence': 'all considered at high risk'},\n",
       " {'score': 0.0021482747979462147,\n",
       "  'token': 10848,\n",
       "  'token_str': 'risk',\n",
       "  'sequence': 'all considered at highrisk'},\n",
       " {'score': 0.0019206757424399257,\n",
       "  'token': 2476,\n",
       "  'token_str': ' risks',\n",
       "  'sequence': 'all considered at high risks'},\n",
       " {'score': 0.001567926723510027,\n",
       "  'token': 27791,\n",
       "  'token_str': ' peril',\n",
       "  'sequence': 'all considered at high peril'},\n",
       " {'score': 0.0008394877077080309,\n",
       "  'token': 4854,\n",
       "  'token_str': ' danger',\n",
       "  'sequence': 'all considered at high danger'}]"
      ]
     },
     "execution_count": 56,
     "metadata": {},
     "output_type": "execute_result"
    }
   ],
   "source": [
    "#original text: \"all considered at high risk of cardiovascular\" Let's mask \"risk\" and try to predict it\n",
    "predicted_tokens = mlm(\"all considered at high <mask>\")\n",
    "predicted_tokens = [_ for _ in predicted_tokens if _['token_str'] not in ['.', ',', ';']]\n",
    "predicted_tokens"
   ]
  },
  {
   "cell_type": "markdown",
   "metadata": {},
   "source": [
    "## Still `risk` is returned as the top score because this word has been used in both medical text and generic text (i.e., books)"
   ]
  },
  {
   "cell_type": "markdown",
   "metadata": {},
   "source": [
    "## It seems some words of `peril` and `danger` replaced with `doses` and `levels` respectively because the model give a better rate to generic words instead of medical words"
   ]
  },
  {
   "cell_type": "code",
   "execution_count": null,
   "metadata": {},
   "outputs": [],
   "source": []
  }
 ],
 "metadata": {
  "kernelspec": {
   "display_name": "Python 3",
   "language": "python",
   "name": "python3"
  },
  "language_info": {
   "codemirror_mode": {
    "name": "ipython",
    "version": 3
   },
   "file_extension": ".py",
   "mimetype": "text/x-python",
   "name": "python",
   "nbconvert_exporter": "python",
   "pygments_lexer": "ipython3",
   "version": "3.8.10"
  }
 },
 "nbformat": 4,
 "nbformat_minor": 4
}
